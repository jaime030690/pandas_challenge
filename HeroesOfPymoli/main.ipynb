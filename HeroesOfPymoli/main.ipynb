{
 "cells": [
  {
   "cell_type": "markdown",
   "metadata": {},
   "source": [
    "# Heroes of Pymolli Challenge"
   ]
  },
  {
   "cell_type": "code",
   "execution_count": 1,
   "metadata": {},
   "outputs": [
    {
     "data": {
      "text/html": "<div>\n<style scoped>\n    .dataframe tbody tr th:only-of-type {\n        vertical-align: middle;\n    }\n\n    .dataframe tbody tr th {\n        vertical-align: top;\n    }\n\n    .dataframe thead th {\n        text-align: right;\n    }\n</style>\n<table border=\"1\" class=\"dataframe\">\n  <thead>\n    <tr style=\"text-align: right;\">\n      <th></th>\n      <th>Purchase ID</th>\n      <th>SN</th>\n      <th>Age</th>\n      <th>Gender</th>\n      <th>Item ID</th>\n      <th>Item Name</th>\n      <th>Price</th>\n    </tr>\n  </thead>\n  <tbody>\n    <tr>\n      <th>0</th>\n      <td>0</td>\n      <td>Lisim78</td>\n      <td>20</td>\n      <td>Male</td>\n      <td>108</td>\n      <td>Extraction, Quickblade Of Trembling Hands</td>\n      <td>3.53</td>\n    </tr>\n    <tr>\n      <th>1</th>\n      <td>1</td>\n      <td>Lisovynya38</td>\n      <td>40</td>\n      <td>Male</td>\n      <td>143</td>\n      <td>Frenzied Scimitar</td>\n      <td>1.56</td>\n    </tr>\n    <tr>\n      <th>2</th>\n      <td>2</td>\n      <td>Ithergue48</td>\n      <td>24</td>\n      <td>Male</td>\n      <td>92</td>\n      <td>Final Critic</td>\n      <td>4.88</td>\n    </tr>\n    <tr>\n      <th>3</th>\n      <td>3</td>\n      <td>Chamassasya86</td>\n      <td>24</td>\n      <td>Male</td>\n      <td>100</td>\n      <td>Blindscythe</td>\n      <td>3.27</td>\n    </tr>\n    <tr>\n      <th>4</th>\n      <td>4</td>\n      <td>Iskosia90</td>\n      <td>23</td>\n      <td>Male</td>\n      <td>131</td>\n      <td>Fury</td>\n      <td>1.44</td>\n    </tr>\n    <tr>\n      <th>...</th>\n      <td>...</td>\n      <td>...</td>\n      <td>...</td>\n      <td>...</td>\n      <td>...</td>\n      <td>...</td>\n      <td>...</td>\n    </tr>\n    <tr>\n      <th>775</th>\n      <td>775</td>\n      <td>Aethedru70</td>\n      <td>21</td>\n      <td>Female</td>\n      <td>60</td>\n      <td>Wolf</td>\n      <td>3.54</td>\n    </tr>\n    <tr>\n      <th>776</th>\n      <td>776</td>\n      <td>Iral74</td>\n      <td>21</td>\n      <td>Male</td>\n      <td>164</td>\n      <td>Exiled Doomblade</td>\n      <td>1.63</td>\n    </tr>\n    <tr>\n      <th>777</th>\n      <td>777</td>\n      <td>Yathecal72</td>\n      <td>20</td>\n      <td>Male</td>\n      <td>67</td>\n      <td>Celeste, Incarnation of the Corrupted</td>\n      <td>3.46</td>\n    </tr>\n    <tr>\n      <th>778</th>\n      <td>778</td>\n      <td>Sisur91</td>\n      <td>7</td>\n      <td>Male</td>\n      <td>101</td>\n      <td>Final Critic</td>\n      <td>4.19</td>\n    </tr>\n    <tr>\n      <th>779</th>\n      <td>779</td>\n      <td>Ennrian78</td>\n      <td>24</td>\n      <td>Male</td>\n      <td>50</td>\n      <td>Dawn</td>\n      <td>4.60</td>\n    </tr>\n  </tbody>\n</table>\n<p>780 rows × 7 columns</p>\n</div>",
      "text/plain": "     Purchase ID             SN  Age  Gender  Item ID  \\\n0              0        Lisim78   20    Male      108   \n1              1    Lisovynya38   40    Male      143   \n2              2     Ithergue48   24    Male       92   \n3              3  Chamassasya86   24    Male      100   \n4              4      Iskosia90   23    Male      131   \n..           ...            ...  ...     ...      ...   \n775          775     Aethedru70   21  Female       60   \n776          776         Iral74   21    Male      164   \n777          777     Yathecal72   20    Male       67   \n778          778        Sisur91    7    Male      101   \n779          779      Ennrian78   24    Male       50   \n\n                                     Item Name  Price  \n0    Extraction, Quickblade Of Trembling Hands   3.53  \n1                            Frenzied Scimitar   1.56  \n2                                 Final Critic   4.88  \n3                                  Blindscythe   3.27  \n4                                         Fury   1.44  \n..                                         ...    ...  \n775                                       Wolf   3.54  \n776                           Exiled Doomblade   1.63  \n777      Celeste, Incarnation of the Corrupted   3.46  \n778                               Final Critic   4.19  \n779                                       Dawn   4.60  \n\n[780 rows x 7 columns]"
     },
     "execution_count": 1,
     "metadata": {},
     "output_type": "execute_result"
    }
   ],
   "source": [
    "#Import dependencies\n",
    "import pandas as pd\n",
    "import numpy as np\n",
    "\n",
    "#variable for file name\n",
    "filename = 'Resources/purchase_data.csv'\n",
    "\n",
    "#Create data frame from csv file\n",
    "data = pd.read_csv(filename)\n",
    "data"
   ]
  },
  {
   "cell_type": "markdown",
   "metadata": {},
   "source": [
    "## Player Count"
   ]
  },
  {
   "cell_type": "code",
   "execution_count": 2,
   "metadata": {},
   "outputs": [
    {
     "data": {
      "text/html": "<div>\n<style scoped>\n    .dataframe tbody tr th:only-of-type {\n        vertical-align: middle;\n    }\n\n    .dataframe tbody tr th {\n        vertical-align: top;\n    }\n\n    .dataframe thead th {\n        text-align: right;\n    }\n</style>\n<table border=\"1\" class=\"dataframe\">\n  <thead>\n    <tr style=\"text-align: right;\">\n      <th></th>\n      <th>Total Players</th>\n    </tr>\n  </thead>\n  <tbody>\n    <tr>\n      <th>0</th>\n      <td>576</td>\n    </tr>\n  </tbody>\n</table>\n</div>",
      "text/plain": "   Total Players\n0            576"
     },
     "execution_count": 2,
     "metadata": {},
     "output_type": "execute_result"
    }
   ],
   "source": [
    "#Create data frame\n",
    "player_count = len(data['SN'].value_counts())\n",
    "player_count_df = pd.DataFrame({'Total Players': [player_count]})\n",
    "\n",
    "#Show data frame\n",
    "player_count_df\n"
   ]
  },
  {
   "cell_type": "markdown",
   "metadata": {},
   "source": [
    "## Purchasing Analysis (Total)"
   ]
  },
  {
   "cell_type": "code",
   "execution_count": 3,
   "metadata": {},
   "outputs": [
    {
     "data": {
      "text/html": "<div>\n<style scoped>\n    .dataframe tbody tr th:only-of-type {\n        vertical-align: middle;\n    }\n\n    .dataframe tbody tr th {\n        vertical-align: top;\n    }\n\n    .dataframe thead th {\n        text-align: right;\n    }\n</style>\n<table border=\"1\" class=\"dataframe\">\n  <thead>\n    <tr style=\"text-align: right;\">\n      <th></th>\n      <th>Number of Unique Items</th>\n      <th>Average Purchase Price</th>\n      <th>Total Number of Purchases</th>\n      <th>Total Revenue</th>\n    </tr>\n  </thead>\n  <tbody>\n    <tr>\n      <th>0</th>\n      <td>183</td>\n      <td>$3.05</td>\n      <td>780</td>\n      <td>$2,379.77</td>\n    </tr>\n  </tbody>\n</table>\n</div>",
      "text/plain": "   Number of Unique Items Average Purchase Price  Total Number of Purchases  \\\n0                     183                  $3.05                        780   \n\n  Total Revenue  \n0     $2,379.77  "
     },
     "execution_count": 3,
     "metadata": {},
     "output_type": "execute_result"
    }
   ],
   "source": [
    "#Create data frame\n",
    "purchasing_analysis = pd.DataFrame({\n",
    "    'Number of Unique Items': [data['Item ID'].value_counts().count()],\n",
    "    'Average Purchase Price': [data['Price'].mean()],\n",
    "    'Total Number of Purchases': [data['Purchase ID'].count()],\n",
    "    'Total Revenue': [data['Price'].sum()]\n",
    "})\n",
    "\n",
    "#Format columns\n",
    "purchasing_analysis['Average Purchase Price'] = purchasing_analysis['Average Purchase Price'].map('${:.2f}'.format)\n",
    "purchasing_analysis['Total Revenue'] = purchasing_analysis['Total Revenue'].map('${:,.2f}'.format)\n",
    "\n",
    "#Show data frame\n",
    "purchasing_analysis"
   ]
  },
  {
   "cell_type": "markdown",
   "metadata": {},
   "source": [
    "## Gender Demographics"
   ]
  },
  {
   "cell_type": "code",
   "execution_count": 4,
   "metadata": {},
   "outputs": [
    {
     "data": {
      "text/html": "<div>\n<style scoped>\n    .dataframe tbody tr th:only-of-type {\n        vertical-align: middle;\n    }\n\n    .dataframe tbody tr th {\n        vertical-align: top;\n    }\n\n    .dataframe thead th {\n        text-align: right;\n    }\n</style>\n<table border=\"1\" class=\"dataframe\">\n  <thead>\n    <tr style=\"text-align: right;\">\n      <th></th>\n      <th>Total Count</th>\n      <th>Percentage of Players</th>\n    </tr>\n    <tr>\n      <th>Gender</th>\n      <th></th>\n      <th></th>\n    </tr>\n  </thead>\n  <tbody>\n    <tr>\n      <th>Female</th>\n      <td>81</td>\n      <td>14.06%</td>\n    </tr>\n    <tr>\n      <th>Male</th>\n      <td>484</td>\n      <td>84.03%</td>\n    </tr>\n    <tr>\n      <th>Other / Non-Disclosed</th>\n      <td>11</td>\n      <td>1.91%</td>\n    </tr>\n  </tbody>\n</table>\n</div>",
      "text/plain": "                       Total Count Percentage of Players\nGender                                                  \nFemale                          81                14.06%\nMale                           484                84.03%\nOther / Non-Disclosed           11                 1.91%"
     },
     "execution_count": 4,
     "metadata": {},
     "output_type": "execute_result"
    }
   ],
   "source": [
    "#Count gender\n",
    "gender_unique = data.groupby('Gender')['SN'].nunique()\n",
    "\n",
    "#Create data frame\n",
    "gender_df = pd.DataFrame({\n",
    "    'Total Count': gender_unique,\n",
    "    'Percentage of Players': gender_unique * 100 / player_count\n",
    "})\n",
    "\n",
    "#Format column\n",
    "gender_df['Percentage of Players'] = gender_df['Percentage of Players'].map('{:.2f}%'.format)\n",
    "\n",
    "#Show data frame\n",
    "gender_df"
   ]
  },
  {
   "cell_type": "markdown",
   "metadata": {},
   "source": [
    "## Purchasing Analysis (Gender)"
   ]
  },
  {
   "cell_type": "code",
   "execution_count": 5,
   "metadata": {},
   "outputs": [
    {
     "data": {
      "text/html": "<div>\n<style scoped>\n    .dataframe tbody tr th:only-of-type {\n        vertical-align: middle;\n    }\n\n    .dataframe tbody tr th {\n        vertical-align: top;\n    }\n\n    .dataframe thead th {\n        text-align: right;\n    }\n</style>\n<table border=\"1\" class=\"dataframe\">\n  <thead>\n    <tr style=\"text-align: right;\">\n      <th></th>\n      <th>Purchase Count</th>\n      <th>Average Purchase Price</th>\n      <th>Total Purchase Value</th>\n      <th>Avg Pruchase per Person</th>\n    </tr>\n    <tr>\n      <th>Gender</th>\n      <th></th>\n      <th></th>\n      <th></th>\n      <th></th>\n    </tr>\n  </thead>\n  <tbody>\n    <tr>\n      <th>Female</th>\n      <td>113</td>\n      <td>$3.20</td>\n      <td>$361.94</td>\n      <td>$4.47</td>\n    </tr>\n    <tr>\n      <th>Male</th>\n      <td>652</td>\n      <td>$3.02</td>\n      <td>$1967.64</td>\n      <td>$4.07</td>\n    </tr>\n    <tr>\n      <th>Other / Non-Disclosed</th>\n      <td>15</td>\n      <td>$3.35</td>\n      <td>$50.19</td>\n      <td>$4.56</td>\n    </tr>\n  </tbody>\n</table>\n</div>",
      "text/plain": "                       Purchase Count Average Purchase Price  \\\nGender                                                         \nFemale                            113                  $3.20   \nMale                              652                  $3.02   \nOther / Non-Disclosed              15                  $3.35   \n\n                      Total Purchase Value Avg Pruchase per Person  \nGender                                                              \nFemale                             $361.94                   $4.47  \nMale                              $1967.64                   $4.07  \nOther / Non-Disclosed               $50.19                   $4.56  "
     },
     "execution_count": 5,
     "metadata": {},
     "output_type": "execute_result"
    }
   ],
   "source": [
    "#Gender count\n",
    "gender_count = data.groupby('Gender')\n",
    "\n",
    "#Create data frame\n",
    "purchase_analysis_gender = pd.DataFrame({\n",
    "    'Purchase Count': gender_count['Gender'].count(),\n",
    "    'Average Purchase Price': gender_count['Price'].mean(),\n",
    "    'Total Purchase Value': gender_count['Price'].sum(),\n",
    "    'Avg Purchase per Person': gender_count['Price'].sum() / gender_unique\n",
    "})\n",
    "\n",
    "#Format columns\n",
    "purchase_analysis_gender['Average Purchase Price'] = purchase_analysis_gender['Average Purchase Price'].map('${:.2f}'.format)\n",
    "purchase_analysis_gender['Total Purchase Value'] = purchase_analysis_gender['Total Purchase Value'].map('${:.2f}'.format)\n",
    "purchase_analysis_gender['Avg Purchase per Person'] = purchase_analysis_gender['Avg Purchase per Person'].map('${:.2f}'.format)\n",
    "\n",
    "#Show data frame\n",
    "purchase_analysis_gender"
   ]
  },
  {
   "cell_type": "markdown",
   "execution_count": null,
   "metadata": {},
   "outputs": [],
   "source": [
    "## Age Demographics"
   ]
  },
  {
   "cell_type": "code",
   "execution_count": 9,
   "metadata": {},
   "outputs": [
    {
     "data": {
      "text/html": "<div>\n<style scoped>\n    .dataframe tbody tr th:only-of-type {\n        vertical-align: middle;\n    }\n\n    .dataframe tbody tr th {\n        vertical-align: top;\n    }\n\n    .dataframe thead th {\n        text-align: right;\n    }\n</style>\n<table border=\"1\" class=\"dataframe\">\n  <thead>\n    <tr style=\"text-align: right;\">\n      <th></th>\n      <th>Total Count</th>\n      <th>Percentage of Players</th>\n    </tr>\n    <tr>\n      <th>Age Ranges</th>\n      <th></th>\n      <th></th>\n    </tr>\n  </thead>\n  <tbody>\n    <tr>\n      <th>&lt;10</th>\n      <td>17</td>\n      <td>2.95%</td>\n    </tr>\n    <tr>\n      <th>10-14</th>\n      <td>22</td>\n      <td>3.82%</td>\n    </tr>\n    <tr>\n      <th>15-19</th>\n      <td>107</td>\n      <td>18.58%</td>\n    </tr>\n    <tr>\n      <th>20-24</th>\n      <td>258</td>\n      <td>44.79%</td>\n    </tr>\n    <tr>\n      <th>25-29</th>\n      <td>77</td>\n      <td>13.37%</td>\n    </tr>\n    <tr>\n      <th>30-34</th>\n      <td>52</td>\n      <td>9.03%</td>\n    </tr>\n    <tr>\n      <th>35-39</th>\n      <td>31</td>\n      <td>5.38%</td>\n    </tr>\n    <tr>\n      <th>40+</th>\n      <td>12</td>\n      <td>2.08%</td>\n    </tr>\n  </tbody>\n</table>\n</div>",
      "text/plain": "            Total Count Percentage of Players\nAge Ranges                                   \n<10                  17                 2.95%\n10-14                22                 3.82%\n15-19               107                18.58%\n20-24               258                44.79%\n25-29                77                13.37%\n30-34                52                 9.03%\n35-39                31                 5.38%\n40+                  12                 2.08%"
     },
     "execution_count": 9,
     "metadata": {},
     "output_type": "execute_result"
    }
   ],
   "source": [
    "#Create bins\n",
    "bins = [0, 9, 14,  19, 24, 29, 34, 39, 100]\n",
    "value_labels = ['<10', '10-14', '15-19', '20-24', '25-29', '30-34', '35-39', '40+']\n",
    "\n",
    "#Copy data to new df\n",
    "binned_age = data\n",
    "\n",
    "#Create binned df\n",
    "binned_age['Age Ranges'] = pd.cut(data['Age'], bins , labels = value_labels)\n",
    "\n",
    "#Pull unique values on series\n",
    "age_unique = binned_age.groupby('Age Ranges')['SN'].nunique()\n",
    "\n",
    "#Create results df\n",
    "age_df = pd.DataFrame( {\n",
    "    'Total Count': age_unique,\n",
    "    'Percentage of Players': 100 * age_unique / player_count\n",
    "})\n",
    "\n",
    "#Format column\n",
    "age_df['Percentage of Players'] = age_df['Percentage of Players'].map('{:.2f}%'.format)\n",
    "\n",
    "#Show results\n",
    "age_df"
   ]
  },
  {
   "cell_type": "markdown",
   "execution_count": null,
   "metadata": {},
   "outputs": [],
   "source": [
    "## Purchasing Analysis (Age)"
   ]
  },
  {
   "cell_type": "code",
   "execution_count": 10,
   "metadata": {},
   "outputs": [
    {
     "data": {
      "text/html": "<div>\n<style scoped>\n    .dataframe tbody tr th:only-of-type {\n        vertical-align: middle;\n    }\n\n    .dataframe tbody tr th {\n        vertical-align: top;\n    }\n\n    .dataframe thead th {\n        text-align: right;\n    }\n</style>\n<table border=\"1\" class=\"dataframe\">\n  <thead>\n    <tr style=\"text-align: right;\">\n      <th></th>\n      <th>Purchase Count</th>\n      <th>Average Purchase Price</th>\n      <th>Total Purchase Value</th>\n      <th>Avg Purchase per Person</th>\n    </tr>\n  </thead>\n  <tbody>\n    <tr>\n      <th>7</th>\n      <td>9.0</td>\n      <td>$3.65</td>\n      <td>$32.89</td>\n      <td>$nan</td>\n    </tr>\n    <tr>\n      <th>8</th>\n      <td>8.0</td>\n      <td>$3.25</td>\n      <td>$25.97</td>\n      <td>$nan</td>\n    </tr>\n    <tr>\n      <th>9</th>\n      <td>6.0</td>\n      <td>$3.04</td>\n      <td>$18.27</td>\n      <td>$nan</td>\n    </tr>\n    <tr>\n      <th>10</th>\n      <td>9.0</td>\n      <td>$3.54</td>\n      <td>$31.83</td>\n      <td>$nan</td>\n    </tr>\n    <tr>\n      <th>11</th>\n      <td>7.0</td>\n      <td>$2.68</td>\n      <td>$18.79</td>\n      <td>$nan</td>\n    </tr>\n    <tr>\n      <th>12</th>\n      <td>6.0</td>\n      <td>$2.63</td>\n      <td>$15.80</td>\n      <td>$nan</td>\n    </tr>\n    <tr>\n      <th>13</th>\n      <td>4.0</td>\n      <td>$2.36</td>\n      <td>$9.45</td>\n      <td>$nan</td>\n    </tr>\n    <tr>\n      <th>14</th>\n      <td>2.0</td>\n      <td>$3.46</td>\n      <td>$6.91</td>\n      <td>$nan</td>\n    </tr>\n    <tr>\n      <th>15</th>\n      <td>35.0</td>\n      <td>$3.02</td>\n      <td>$105.65</td>\n      <td>$nan</td>\n    </tr>\n    <tr>\n      <th>16</th>\n      <td>30.0</td>\n      <td>$3.02</td>\n      <td>$90.56</td>\n      <td>$nan</td>\n    </tr>\n    <tr>\n      <th>17</th>\n      <td>22.0</td>\n      <td>$2.93</td>\n      <td>$64.48</td>\n      <td>$nan</td>\n    </tr>\n    <tr>\n      <th>18</th>\n      <td>26.0</td>\n      <td>$3.16</td>\n      <td>$82.22</td>\n      <td>$nan</td>\n    </tr>\n    <tr>\n      <th>19</th>\n      <td>23.0</td>\n      <td>$3.04</td>\n      <td>$69.98</td>\n      <td>$nan</td>\n    </tr>\n    <tr>\n      <th>20</th>\n      <td>99.0</td>\n      <td>$3.17</td>\n      <td>$314.32</td>\n      <td>$nan</td>\n    </tr>\n    <tr>\n      <th>21</th>\n      <td>62.0</td>\n      <td>$2.92</td>\n      <td>$180.74</td>\n      <td>$nan</td>\n    </tr>\n    <tr>\n      <th>22</th>\n      <td>70.0</td>\n      <td>$2.96</td>\n      <td>$206.85</td>\n      <td>$nan</td>\n    </tr>\n    <tr>\n      <th>23</th>\n      <td>67.0</td>\n      <td>$3.01</td>\n      <td>$201.93</td>\n      <td>$nan</td>\n    </tr>\n    <tr>\n      <th>24</th>\n      <td>67.0</td>\n      <td>$3.14</td>\n      <td>$210.22</td>\n      <td>$nan</td>\n    </tr>\n    <tr>\n      <th>25</th>\n      <td>59.0</td>\n      <td>$3.08</td>\n      <td>$181.90</td>\n      <td>$nan</td>\n    </tr>\n    <tr>\n      <th>26</th>\n      <td>14.0</td>\n      <td>$2.87</td>\n      <td>$40.19</td>\n      <td>$nan</td>\n    </tr>\n    <tr>\n      <th>27</th>\n      <td>10.0</td>\n      <td>$2.72</td>\n      <td>$27.23</td>\n      <td>$nan</td>\n    </tr>\n    <tr>\n      <th>28</th>\n      <td>5.0</td>\n      <td>$1.69</td>\n      <td>$8.45</td>\n      <td>$nan</td>\n    </tr>\n    <tr>\n      <th>29</th>\n      <td>13.0</td>\n      <td>$2.71</td>\n      <td>$35.23</td>\n      <td>$nan</td>\n    </tr>\n    <tr>\n      <th>30</th>\n      <td>35.0</td>\n      <td>$3.15</td>\n      <td>$110.32</td>\n      <td>$nan</td>\n    </tr>\n    <tr>\n      <th>31</th>\n      <td>7.0</td>\n      <td>$3.44</td>\n      <td>$24.05</td>\n      <td>$nan</td>\n    </tr>\n    <tr>\n      <th>32</th>\n      <td>8.0</td>\n      <td>$2.84</td>\n      <td>$22.69</td>\n      <td>$nan</td>\n    </tr>\n    <tr>\n      <th>33</th>\n      <td>14.0</td>\n      <td>$2.49</td>\n      <td>$34.81</td>\n      <td>$nan</td>\n    </tr>\n    <tr>\n      <th>34</th>\n      <td>9.0</td>\n      <td>$2.46</td>\n      <td>$22.13</td>\n      <td>$nan</td>\n    </tr>\n    <tr>\n      <th>35</th>\n      <td>14.0</td>\n      <td>$3.72</td>\n      <td>$52.03</td>\n      <td>$nan</td>\n    </tr>\n    <tr>\n      <th>36</th>\n      <td>5.0</td>\n      <td>$2.53</td>\n      <td>$12.66</td>\n      <td>$nan</td>\n    </tr>\n    <tr>\n      <th>37</th>\n      <td>7.0</td>\n      <td>$3.64</td>\n      <td>$25.51</td>\n      <td>$nan</td>\n    </tr>\n    <tr>\n      <th>38</th>\n      <td>9.0</td>\n      <td>$3.79</td>\n      <td>$34.15</td>\n      <td>$nan</td>\n    </tr>\n    <tr>\n      <th>39</th>\n      <td>6.0</td>\n      <td>$3.89</td>\n      <td>$23.32</td>\n      <td>$nan</td>\n    </tr>\n    <tr>\n      <th>40</th>\n      <td>6.0</td>\n      <td>$2.79</td>\n      <td>$16.71</td>\n      <td>$nan</td>\n    </tr>\n    <tr>\n      <th>41</th>\n      <td>2.0</td>\n      <td>$3.27</td>\n      <td>$6.54</td>\n      <td>$nan</td>\n    </tr>\n    <tr>\n      <th>42</th>\n      <td>1.0</td>\n      <td>$3.93</td>\n      <td>$3.93</td>\n      <td>$nan</td>\n    </tr>\n    <tr>\n      <th>43</th>\n      <td>1.0</td>\n      <td>$4.00</td>\n      <td>$4.00</td>\n      <td>$nan</td>\n    </tr>\n    <tr>\n      <th>44</th>\n      <td>2.0</td>\n      <td>$2.68</td>\n      <td>$5.36</td>\n      <td>$nan</td>\n    </tr>\n    <tr>\n      <th>45</th>\n      <td>1.0</td>\n      <td>$1.70</td>\n      <td>$1.70</td>\n      <td>$nan</td>\n    </tr>\n    <tr>\n      <th>10-14</th>\n      <td>NaN</td>\n      <td>$nan</td>\n      <td>$nan</td>\n      <td>$nan</td>\n    </tr>\n    <tr>\n      <th>15-19</th>\n      <td>NaN</td>\n      <td>$nan</td>\n      <td>$nan</td>\n      <td>$nan</td>\n    </tr>\n    <tr>\n      <th>20-24</th>\n      <td>NaN</td>\n      <td>$nan</td>\n      <td>$nan</td>\n      <td>$nan</td>\n    </tr>\n    <tr>\n      <th>25-29</th>\n      <td>NaN</td>\n      <td>$nan</td>\n      <td>$nan</td>\n      <td>$nan</td>\n    </tr>\n    <tr>\n      <th>30-34</th>\n      <td>NaN</td>\n      <td>$nan</td>\n      <td>$nan</td>\n      <td>$nan</td>\n    </tr>\n    <tr>\n      <th>35-39</th>\n      <td>NaN</td>\n      <td>$nan</td>\n      <td>$nan</td>\n      <td>$nan</td>\n    </tr>\n    <tr>\n      <th>40+</th>\n      <td>NaN</td>\n      <td>$nan</td>\n      <td>$nan</td>\n      <td>$nan</td>\n    </tr>\n    <tr>\n      <th>&lt;10</th>\n      <td>NaN</td>\n      <td>$nan</td>\n      <td>$nan</td>\n      <td>$nan</td>\n    </tr>\n  </tbody>\n</table>\n</div>",
      "text/plain": "       Purchase Count Average Purchase Price Total Purchase Value  \\\n7                 9.0                  $3.65               $32.89   \n8                 8.0                  $3.25               $25.97   \n9                 6.0                  $3.04               $18.27   \n10                9.0                  $3.54               $31.83   \n11                7.0                  $2.68               $18.79   \n12                6.0                  $2.63               $15.80   \n13                4.0                  $2.36                $9.45   \n14                2.0                  $3.46                $6.91   \n15               35.0                  $3.02              $105.65   \n16               30.0                  $3.02               $90.56   \n17               22.0                  $2.93               $64.48   \n18               26.0                  $3.16               $82.22   \n19               23.0                  $3.04               $69.98   \n20               99.0                  $3.17              $314.32   \n21               62.0                  $2.92              $180.74   \n22               70.0                  $2.96              $206.85   \n23               67.0                  $3.01              $201.93   \n24               67.0                  $3.14              $210.22   \n25               59.0                  $3.08              $181.90   \n26               14.0                  $2.87               $40.19   \n27               10.0                  $2.72               $27.23   \n28                5.0                  $1.69                $8.45   \n29               13.0                  $2.71               $35.23   \n30               35.0                  $3.15              $110.32   \n31                7.0                  $3.44               $24.05   \n32                8.0                  $2.84               $22.69   \n33               14.0                  $2.49               $34.81   \n34                9.0                  $2.46               $22.13   \n35               14.0                  $3.72               $52.03   \n36                5.0                  $2.53               $12.66   \n37                7.0                  $3.64               $25.51   \n38                9.0                  $3.79               $34.15   \n39                6.0                  $3.89               $23.32   \n40                6.0                  $2.79               $16.71   \n41                2.0                  $3.27                $6.54   \n42                1.0                  $3.93                $3.93   \n43                1.0                  $4.00                $4.00   \n44                2.0                  $2.68                $5.36   \n45                1.0                  $1.70                $1.70   \n10-14             NaN                   $nan                 $nan   \n15-19             NaN                   $nan                 $nan   \n20-24             NaN                   $nan                 $nan   \n25-29             NaN                   $nan                 $nan   \n30-34             NaN                   $nan                 $nan   \n35-39             NaN                   $nan                 $nan   \n40+               NaN                   $nan                 $nan   \n<10               NaN                   $nan                 $nan   \n\n      Avg Purchase per Person  \n7                        $nan  \n8                        $nan  \n9                        $nan  \n10                       $nan  \n11                       $nan  \n12                       $nan  \n13                       $nan  \n14                       $nan  \n15                       $nan  \n16                       $nan  \n17                       $nan  \n18                       $nan  \n19                       $nan  \n20                       $nan  \n21                       $nan  \n22                       $nan  \n23                       $nan  \n24                       $nan  \n25                       $nan  \n26                       $nan  \n27                       $nan  \n28                       $nan  \n29                       $nan  \n30                       $nan  \n31                       $nan  \n32                       $nan  \n33                       $nan  \n34                       $nan  \n35                       $nan  \n36                       $nan  \n37                       $nan  \n38                       $nan  \n39                       $nan  \n40                       $nan  \n41                       $nan  \n42                       $nan  \n43                       $nan  \n44                       $nan  \n45                       $nan  \n10-14                    $nan  \n15-19                    $nan  \n20-24                    $nan  \n25-29                    $nan  \n30-34                    $nan  \n35-39                    $nan  \n40+                      $nan  \n<10                      $nan  "
     },
     "execution_count": 10,
     "metadata": {},
     "output_type": "execute_result"
    }
   ],
   "source": [
    "#Age count\n",
    "age_count = data.groupby('Age')\n",
    "\n",
    "#Create data frame\n",
    "purchase_analysis_age = pd.DataFrame({\n",
    "    'Purchase Count': age_count['Age'].count(),\n",
    "    'Average Purchase Price': age_count['Price'].mean(),\n",
    "    'Total Purchase Value': age_count['Price'].sum(),\n",
    "    'Avg Purchase per Person': age_count['Price'].sum() / age_unique\n",
    "})\n",
    "\n",
    "#Format columns\n",
    "purchase_analysis_age['Average Purchase Price'] = purchase_analysis_age['Average Purchase Price'].map('${:.2f}'.format)\n",
    "purchase_analysis_age['Total Purchase Value'] = purchase_analysis_age['Total Purchase Value'].map('${:.2f}'.format)\n",
    "purchase_analysis_age['Avg Purchase per Person'] = purchase_analysis_age['Avg Purchase per Person'].map('${:.2f}'.format)\n",
    "\n",
    "#Show data frame\n",
    "purchase_analysis_age"
   ]
  },
  {
   "cell_type": "code",
   "execution_count": null,
   "metadata": {},
   "outputs": [],
   "source": []
  }
 ],
 "metadata": {
  "file_extension": ".py",
  "kernelspec": {
   "display_name": "Python 3.6.9 64-bit ('PythonData': conda)",
   "language": "python",
   "name": "python36964bitpythondataconda993f3ca15d13468aada167e2b97dca03"
  },
  "language_info": {
   "codemirror_mode": {
    "name": "ipython",
    "version": 3
   },
   "file_extension": ".py",
   "mimetype": "text/x-python",
   "name": "python",
   "nbconvert_exporter": "python",
   "pygments_lexer": "ipython3",
   "version": "3.6.9-final"
  },
  "mimetype": "text/x-python",
  "name": "python",
  "npconvert_exporter": "python",
  "pygments_lexer": "ipython3",
  "version": 3
 },
 "nbformat": 4,
 "nbformat_minor": 2
}